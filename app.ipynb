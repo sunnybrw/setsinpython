{
  "cells": [
    {
      "cell_type": "markdown",
      "metadata": {
        "id": "view-in-github",
        "colab_type": "text"
      },
      "source": [
        "<a href=\"https://colab.research.google.com/github/sunnybrw/setsinpython/blob/main/app.ipynb\" target=\"_parent\"><img src=\"https://colab.research.google.com/assets/colab-badge.svg\" alt=\"Open In Colab\"/></a>"
      ]
    },
    {
      "cell_type": "code",
      "execution_count": null,
      "metadata": {
        "id": "kDyMsNf2olYa",
        "outputId": "9adb51ae-9710-4e90-a175-a584212537e3"
      },
      "outputs": [
        {
          "name": "stdout",
          "output_type": "stream",
          "text": [
            "{1, 2, 3, 4, 5, 6}\n",
            "{3, 4}\n",
            "{1, 2}\n",
            "{1, 2, 5, 6}\n"
          ]
        }
      ],
      "source": [
        "set1 = {1, 2, 3, 4}\n",
        "set2 = {3, 4, 5, 6}\n",
        "\n",
        "# Union (elements in either set)\n",
        "print(set1 | set2)  # Output: {1, 2, 3, 4, 5, 6}\n",
        "\n",
        "# Intersection (elements in both sets)\n",
        "print(set1 & set2)  # Output: {3, 4}\n",
        "\n",
        "# Difference (elements in set1 but not in set2)\n",
        "print(set1 - set2)  # Output: {1, 2}\n",
        "\n",
        "# Symmetric Difference (elements in either set but not in both)\n",
        "print(set1 ^ set2)  # Output: {1, 2, 5, 6}"
      ]
    },
    {
      "cell_type": "markdown",
      "metadata": {
        "id": "QWG9wyOsolYe"
      },
      "source": []
    },
    {
      "cell_type": "code",
      "execution_count": null,
      "metadata": {
        "id": "yM3_lULholYf",
        "outputId": "2f2a945f-8ff7-4d28-bdd9-6900b9e7f824"
      },
      "outputs": [
        {
          "name": "stdout",
          "output_type": "stream",
          "text": [
            "{1, 2, 3, 4}\n",
            "{1, 2, 3, 4, 5, 6, 7}\n",
            "{1, 2, 4, 5, 6, 7}\n",
            "{1, 2, 4, 5, 6, 7}\n",
            "{1, 2, 3}\n"
          ]
        }
      ],
      "source": [
        "my_set = {1, 2, 3}\n",
        "\n",
        "# Add an element\n",
        "my_set.add(4)\n",
        "print(my_set)  # Output: {1, 2, 3, 4}\n",
        "\n",
        "# Add multiple elements\n",
        "my_set.update([5, 6, 7])\n",
        "print(my_set)  # Output: {1, 2, 3, 4, 5, 6, 7}\n",
        "\n",
        "# Remove an element\n",
        "my_set.remove(3)\n",
        "print(my_set)  # Output: {1, 2, 4, 5, 6, 7}\n",
        "\n",
        "# Discard an element (no error if element doesn't exist)\n",
        "my_set.discard(10)\n",
        "print(my_set)  # Output: {1, 2, 4, 5, 6, 7}\n",
        "\n",
        "# Duplicates are removed\n",
        "my_set = {1, 2, 2, 3, 3, 3}\n",
        "print(my_set)  # Output: {1, 2, 3}"
      ]
    }
  ],
  "metadata": {
    "kernelspec": {
      "display_name": "Python 3",
      "language": "python",
      "name": "python3"
    },
    "language_info": {
      "codemirror_mode": {
        "name": "ipython",
        "version": 3
      },
      "file_extension": ".py",
      "mimetype": "text/x-python",
      "name": "python",
      "nbconvert_exporter": "python",
      "pygments_lexer": "ipython3",
      "version": "3.12.2"
    },
    "colab": {
      "provenance": [],
      "toc_visible": true,
      "include_colab_link": true
    }
  },
  "nbformat": 4,
  "nbformat_minor": 0
}