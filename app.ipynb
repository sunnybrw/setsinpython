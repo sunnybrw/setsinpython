{
 "cells": [
  {
   "cell_type": "code",
   "execution_count": 2,
   "metadata": {},
   "outputs": [
    {
     "name": "stdout",
     "output_type": "stream",
     "text": [
      "{1, 2, 3, 4, 5, 6}\n",
      "{3, 4}\n",
      "{1, 2}\n",
      "{1, 2, 5, 6}\n"
     ]
    }
   ],
   "source": [
    "set1 = {1, 2, 3, 4}\n",
    "set2 = {3, 4, 5, 6}\n",
    "\n",
    "# Union (elements in either set)\n",
    "print(set1 | set2)  # Output: {1, 2, 3, 4, 5, 6}\n",
    "\n",
    "# Intersection (elements in both sets)\n",
    "print(set1 & set2)  # Output: {3, 4}\n",
    "\n",
    "# Difference (elements in set1 but not in set2)\n",
    "print(set1 - set2)  # Output: {1, 2}\n",
    "\n",
    "# Symmetric Difference (elements in either set but not in both)\n",
    "print(set1 ^ set2)  # Output: {1, 2, 5, 6}"
   ]
  },
  {
   "cell_type": "markdown",
   "metadata": {},
   "source": []
  },
  {
   "cell_type": "code",
   "execution_count": 1,
   "metadata": {},
   "outputs": [
    {
     "name": "stdout",
     "output_type": "stream",
     "text": [
      "{1, 2, 3, 4}\n",
      "{1, 2, 3, 4, 5, 6, 7}\n",
      "{1, 2, 4, 5, 6, 7}\n",
      "{1, 2, 4, 5, 6, 7}\n",
      "{1, 2, 3}\n"
     ]
    }
   ],
   "source": [
    "my_set = {1, 2, 3}\n",
    "\n",
    "# Add an element\n",
    "my_set.add(4)\n",
    "print(my_set)  # Output: {1, 2, 3, 4}\n",
    "\n",
    "# Add multiple elements\n",
    "my_set.update([5, 6, 7])\n",
    "print(my_set)  # Output: {1, 2, 3, 4, 5, 6, 7}\n",
    "\n",
    "# Remove an element\n",
    "my_set.remove(3)\n",
    "print(my_set)  # Output: {1, 2, 4, 5, 6, 7}\n",
    "\n",
    "# Discard an element (no error if element doesn't exist)\n",
    "my_set.discard(10)\n",
    "print(my_set)  # Output: {1, 2, 4, 5, 6, 7}\n",
    "\n",
    "# Duplicates are removed\n",
    "my_set = {1, 2, 2, 3, 3, 3}\n",
    "print(my_set)  # Output: {1, 2, 3}"
   ]
  }
 ],
 "metadata": {
  "kernelspec": {
   "display_name": "Python 3",
   "language": "python",
   "name": "python3"
  },
  "language_info": {
   "codemirror_mode": {
    "name": "ipython",
    "version": 3
   },
   "file_extension": ".py",
   "mimetype": "text/x-python",
   "name": "python",
   "nbconvert_exporter": "python",
   "pygments_lexer": "ipython3",
   "version": "3.12.2"
  }
 },
 "nbformat": 4,
 "nbformat_minor": 2
}
